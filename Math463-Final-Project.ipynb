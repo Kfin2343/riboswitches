{
  "nbformat": 4,
  "nbformat_minor": 0,
  "metadata": {
    "colab": {
      "name": "Copy of riboregulators1.ipynb",
      "provenance": [],
      "collapsed_sections": [],
      "machine_shape": "hm",
      "include_colab_link": true
    },
    "kernelspec": {
      "name": "python3",
      "display_name": "Python 3"
    },
    "accelerator": "GPU"
  },
  "cells": [
    {
      "cell_type": "markdown",
      "metadata": {
        "id": "view-in-github",
        "colab_type": "text"
      },
      "source": [
        "<a href=\"https://colab.research.google.com/github/Kfin2343/riboswitches/blob/main/Math463_Final_Project.ipynb\" target=\"_parent\"><img src=\"https://colab.research.google.com/assets/colab-badge.svg\" alt=\"Open In Colab\"/></a>"
      ]
    },
    {
      "cell_type": "code",
      "metadata": {
        "id": "YnX2_CLC9eR3"
      },
      "source": [
        "num_seqs = 10000"
      ],
      "execution_count": 1,
      "outputs": []
    },
    {
      "cell_type": "markdown",
      "metadata": {
        "id": "bx1aZE_64QNV"
      },
      "source": [
        "#setup"
      ]
    },
    {
      "cell_type": "code",
      "metadata": {
        "id": "5jKfIPzNpSZh"
      },
      "source": [
        "import os, requests, io\n",
        "import numpy as np\n",
        "import pandas as pd\n",
        "import glob\n",
        "import pickle\n",
        "import torch\n",
        "import torch.nn as nn\n",
        "import torch.nn.functional as F\n",
        "import torch.utils.data as data\n",
        "from torch.autograd import Variable\n",
        "from torch.nn.utils.rnn import pad_sequence\n",
        "import matplotlib.pyplot as plt\n",
        "from sklearn.model_selection import StratifiedKFold\n",
        "from sklearn.model_selection import StratifiedKFold\n",
        "from sklearn.model_selection import train_test_split\n",
        "from sklearn.preprocessing import OneHotEncoder, LabelEncoder\n",
        "from sklearn.metrics import roc_auc_score, accuracy_score\n",
        "from sklearn.metrics import classification_report, f1_score, accuracy_score, balanced_accuracy_score\n",
        "import pandas as pd\n",
        "import numpy as np\n",
        "import matplotlib.pyplot as plt\n",
        "from sklearn.metrics import roc_curve, auc\n",
        "import matplotlib.cm as cm\n",
        "import statistics\n",
        "from statistics import mean\n",
        "from sklearn.preprocessing import StandardScaler\n",
        "import random\n"
      ],
      "execution_count": 2,
      "outputs": []
    },
    {
      "cell_type": "code",
      "metadata": {
        "id": "xxUWKDySptpw"
      },
      "source": [
        "use_cuda = torch.cuda.is_available()                   # check if GPU exists\n",
        "device = torch.device(\"cuda\" if use_cuda else \"cpu\")   # use CPU or GPU"
      ],
      "execution_count": 3,
      "outputs": []
    },
    {
      "cell_type": "code",
      "metadata": {
        "id": "meP8zrLRpXdt"
      },
      "source": [
        "#url = 'https://media.githubusercontent.com/media/midas-wyss/engineered-riboregulator-ML/master/data/downsampled_pruned_old_data.csv'\n",
        "url = 'https://media.githubusercontent.com/media/lrsoenksen/CL_RNA_SynthBio/master/data/Toehold_Dataset_Final_2019-10-23.csv'\n",
        "s=requests.get(url).content\n",
        "df=pd.read_csv(io.StringIO(s.decode('utf-8')), sep = \",\") #pandas datatframe\n"
      ],
      "execution_count": 4,
      "outputs": []
    },
    {
      "cell_type": "code",
      "metadata": {
        "id": "QTEtTAFc89UN"
      },
      "source": [
        "mfes = df[['mfe_seq_AscendingStem', 'mfe_seq_DescendingStem',\n",
        "       'mfe_seq_RBS_GFP', 'mfe_seq_RBS_Linker', 'mfe_seq_Stem',\n",
        "       'mfe_seq_StemTop', 'mfe_seq_SwitchOFF', 'mfe_seq_SwitchOFF_GFP',\n",
        "       'mfe_seq_SwitchOFF_NoTo', 'mfe_seq_SwitchON', 'mfe_seq_SwitchON_GFP',\n",
        "       'mfe_seq_ToeholdOFF', 'mfe_seq_ToeholdON', 'mfe_seq_Trigger']]\n",
        "       \n",
        "mfes = np.asarray(mfes)\n",
        "mfes1 = mfes[:num_seqs,:]"
      ],
      "execution_count": 5,
      "outputs": []
    },
    {
      "cell_type": "code",
      "metadata": {
        "id": "xHtpYQqLkCD7"
      },
      "source": [
        "seqs = df[['seq_AscendingStem', 'seq_DescendingStem', 'seq_RBS_GFP',\n",
        "       'seq_RBS_Linker', 'seq_Stem', 'seq_StemTop', 'seq_SwitchOFF',\n",
        "       'seq_SwitchOFF_GFP', 'seq_SwitchOFF_NoTo', 'seq_SwitchON',\n",
        "       'seq_SwitchON_GFP', 'seq_ToeholdOFF', 'seq_ToeholdON', 'seq_Trigger']]\n",
        "       \n",
        "seqs = np.asarray(seqs)\n",
        "seqs = seqs[:num_seqs,:]"
      ],
      "execution_count": 6,
      "outputs": []
    },
    {
      "cell_type": "code",
      "metadata": {
        "id": "ceZOnJqs_OL3"
      },
      "source": [
        "ixqx = range(0,14)"
      ],
      "execution_count": 7,
      "outputs": []
    },
    {
      "cell_type": "code",
      "metadata": {
        "id": "wSLk9bCM8x79",
        "colab": {
          "base_uri": "https://localhost:8080/",
          "height": 833
        },
        "outputId": "1404fdde-88d8-47cc-fc32-64cb3b8e997c"
      },
      "source": [
        "mfes = mfes1[:,ixqx]\n",
        "mfes = np.sum(mfes, axis = 1)\n",
        "mfes = mfes.reshape(-1,1)\n",
        "scaler = StandardScaler()\n",
        "y = scaler.fit_transform(mfes)\n",
        "print(y.shape)\n",
        "def sequence_one_hot(sequence_array):\n",
        "  seq_list = []\n",
        "  \n",
        "  for a in sequence_array:\n",
        "    split = []\n",
        "    split = [char for char in a]\n",
        "    seq_list.append(split)\n",
        "\n",
        "  resnames = ['G', 'T', 'A', 'C']\n",
        "    \n",
        "  label_encoder = LabelEncoder()\n",
        "  encode_names = label_encoder.fit_transform(resnames)\n",
        "  code = dict(zip(resnames, encode_names))\n",
        "\n",
        "  sequences = []\n",
        "  for i in range(len(seq_list)):\n",
        "    position_sequence = []\n",
        "    for r in seq_list[i]:\n",
        "      position = code[r]\n",
        "      position_sequence.append(position)\n",
        "    \n",
        "    values = np.asarray(position_sequence).reshape(len(position_sequence), 1)\n",
        "    onehot_encoder = OneHotEncoder(sparse=False) #build encoder\n",
        "    enc = encode_names.reshape(len(encode_names),1) #reshape into two dimensions before fitting\n",
        "    onehot_encoder.fit(enc)  #assign constant 'code' for one hot encoding from 'resnames' list above\n",
        "    encoded_matrix = onehot_encoder.transform(values) #convert to [x,20] dimensions, one hot encoded\n",
        "    sequences.append(encoded_matrix)\n",
        "\n",
        "  lx = []\n",
        "  lenx = []\n",
        "\n",
        "  for a in sequences: \n",
        "      tensor = torch.tensor(a) #convert to tensor\n",
        "      lx.append(tensor) #append to list\n",
        "      lenx.append(a.shape[0]) #need length for pack_padded_sequence\n",
        "\n",
        "  padded_sequence = pad_sequence(lx, padding_value=0)\n",
        "\n",
        "  return padded_sequence, lenx\n",
        "\n",
        "seq_list = []\n",
        "for i in ixqx:\n",
        "    print(i)\n",
        "    padded_sequence, lengths = sequence_one_hot(sequence_array = seqs[:,i]) #processed data\n",
        "    padded_sequence = padded_sequence.double() #dtype\n",
        "    padded_sequence = padded_sequence.to(device) #cast to gpu\n",
        "    print(padded_sequence.shape)\n",
        "    seq_list.append(padded_sequence)\n",
        "\n",
        "print(len(seq_list))\n",
        "\n",
        "sequence_tensor = seq_list[0]\n",
        "\n",
        "for i in range(1,len(seq_list)):\n",
        "  a = seq_list[i]\n",
        "  sequence_tensor = torch.cat((sequence_tensor,a), dim=0)\n",
        "  x = sequence_tensor.double().to(device)\n",
        "\n",
        "\n",
        "G_content = []\n",
        "C_content = []\n",
        "GC_content = []\n",
        "\n",
        "for i in range(num_seqs):\n",
        "  seq = x[:,i,:]\n",
        "  C = np.asarray(seq[:,1].to('cpu'))\n",
        "  C = np.sum(C)\n",
        "  G = np.asarray(seq[:,2].to('cpu'))\n",
        "  G = np.sum(G)\n",
        "  C, G = int(C), int(G)\n",
        "  GC = C+G\n",
        "  G_content.append(G)\n",
        "  C_content.append(C)\n",
        "  GC_content.append(GC)\n",
        "\n",
        "G = torch.tensor(G_content).double().to(device)\n",
        "C = torch.tensor(C_content).double().to(device)\n",
        "GC = torch.tensor(GC_content).double().to(device)\n",
        "\n",
        "sorted_GC, indeces_GC = torch.sort(G)\n",
        "\n",
        "mfeplot = torch.tensor(y)\n",
        "\n",
        "holdout_size_ls = 1000\n",
        "mses = []\n",
        "for _ in range(30):\n",
        "  holdout_indeces = random.sample(range(0, len(mfeplot)), holdout_size_ls)\n",
        "  holdout_gc = sorted_GC[holdout_indeces]\n",
        "  holdout_mfe=  mfeplot[holdout_indeces]\n",
        "  all_indeces = np.asarray(range(len(mfeplot)))\n",
        "  train_indeces = np.delete(all_indeces, holdout_indeces)\n",
        "  train_gc = sorted_GC[train_indeces]\n",
        "  train_mfe = mfeplot[train_indeces]\n",
        "  A = np.vstack([train_gc.to('cpu'), 1/train_gc.to('cpu') , np.ones(len(train_gc))]).T  ###-1*np.log(train_GC.to('cpu'))\n",
        "  m,l,b = np.linalg.lstsq(A, train_mfe , rcond=None)[0]\n",
        "  from sklearn.metrics import mean_squared_error, mean_absolute_error\n",
        "  y_pred = []\n",
        "  y_true = []\n",
        "  for i in range(len(holdout_gc)):\n",
        "    ii = holdout_gc[i]\n",
        "    ii = np.asarray(ii.to('cpu'))\n",
        "    pred = m*ii + l/ii + b \n",
        "    true = holdout_mfe[i]\n",
        "    y_pred.append(pred)\n",
        "    y_true.append(true)\n",
        "\n",
        "  y_pred = np.asarray(y_pred)\n",
        "  y_true = np.asarray(y_true)\n",
        "\n",
        "  mse = mean_squared_error(y_true, y_pred)\n",
        "  mses.append(mse)\n",
        "mses = np.asarray(mses)\n",
        "\n",
        "print(mses.mean(), mses.std())\n",
        "\n",
        "plt.plot(sorted_GC.to('cpu'), mfeplot, 'r.')\n",
        "\n",
        "arr = sorted_GC.to('cpu')\n",
        "avgs = []\n",
        "for i in range(int(arr[0]), int(arr[-1])+1):\n",
        "  a = np.where(arr == i)\n",
        "  if len(a) == 0:\n",
        "    pass\n",
        "  else:\n",
        "    b = mfeplot[a]\n",
        "    c = b.mean()\n",
        "    avgs.append(c)\n",
        "\n",
        "xx =  range(int(arr[0]), int(arr[-1])+1)\n",
        "avgs = np.asarray(avgs)\n",
        "plt.plot(xx, avgs )"
      ],
      "execution_count": 8,
      "outputs": [
        {
          "output_type": "stream",
          "text": [
            "(10000, 1)\n",
            "0\n",
            "torch.Size([38, 10000, 4])\n",
            "1\n",
            "torch.Size([29, 10000, 4])\n",
            "2\n",
            "torch.Size([65, 10000, 4])\n",
            "3\n",
            "torch.Size([55, 10000, 4])\n",
            "4\n",
            "torch.Size([47, 10000, 4])\n",
            "5\n",
            "torch.Size([23, 10000, 4])\n",
            "6\n",
            "torch.Size([82, 10000, 4])\n",
            "7\n",
            "torch.Size([118, 10000, 4])\n",
            "8\n",
            "torch.Size([83, 10000, 4])\n",
            "9\n",
            "torch.Size([112, 10000, 4])\n",
            "10\n",
            "torch.Size([148, 10000, 4])\n",
            "11\n",
            "torch.Size([35, 10000, 4])\n",
            "12\n",
            "torch.Size([65, 10000, 4])\n",
            "13\n",
            "torch.Size([33, 10000, 4])\n",
            "14\n",
            "0.9239397760067702 0.04254456325654099\n"
          ],
          "name": "stdout"
        },
        {
          "output_type": "execute_result",
          "data": {
            "text/plain": [
              "[<matplotlib.lines.Line2D at 0x7f7f4d203710>]"
            ]
          },
          "metadata": {
            "tags": []
          },
          "execution_count": 8
        },
        {
          "output_type": "display_data",
          "data": {
            "image/png": "[encoded data removed]",
            "text/plain": [
              "<Figure size 432x288 with 1 Axes>"
            ]
          },
          "metadata": {
            "tags": [],
            "needs_background": "light"
          }
        }
      ]
    },
    {
      "cell_type": "code",
      "metadata": {
        "id": "EisB2_KLdmC0"
      },
      "source": [
        ""
      ],
      "execution_count": 8,
      "outputs": []
    },
    {
      "cell_type": "code",
      "metadata": {
        "id": "mpiAkgPKp1JD",
        "colab": {
          "base_uri": "https://localhost:8080/"
        },
        "outputId": "6ceb38a3-e931-4664-d797-31af24015724"
      },
      "source": [
        "y = torch.tensor(mfeplot).double().to(device)"
      ],
      "execution_count": 9,
      "outputs": [
        {
          "output_type": "stream",
          "text": [
            "/usr/local/lib/python3.6/dist-packages/ipykernel_launcher.py:1: UserWarning: To copy construct from a tensor, it is recommended to use sourceTensor.clone().detach() or sourceTensor.clone().detach().requires_grad_(True), rather than torch.tensor(sourceTensor).\n",
            "  \"\"\"Entry point for launching an IPython kernel.\n"
          ],
          "name": "stderr"
        }
      ]
    },
    {
      "cell_type": "code",
      "metadata": {
        "id": "pYpKKdTt_Sib"
      },
      "source": [
        "class dataset(data.Dataset):\n",
        "  def __init__(self, x, t):\n",
        "    self.x = x\n",
        "    self.t = t\n",
        "  def __len__(self):\n",
        "    return len(self.x[0,:,0])\n",
        "  def __getitem__(self, index):\n",
        "    X = self.x[:, index, :]\n",
        "    T = self.t[index, :]\n",
        "    return X, T"
      ],
      "execution_count": 10,
      "outputs": []
    },
    {
      "cell_type": "code",
      "metadata": {
        "id": "BVFoU0ASNtn8"
      },
      "source": [
        "def process_generated(gen):\n",
        "  test = gen.reshape(padded_sequence.size(0),4).to('cpu')\n",
        "  test = np.asarray(test.detach())\n",
        "\n",
        "  pred_binary = np.zeros_like(test)\n",
        "  pred_binary[np.arange(len(test)), test.argmax(1)] = 1\n",
        "\n",
        "  a = np.sum(test, 1)\n",
        "\n",
        "  #plt.plot(a)\n",
        "  #plt.show()\n",
        "\n",
        "  stop_point = []\n",
        "  for i, j in enumerate(a):\n",
        "    if j <=.1:\n",
        "      stop_point.append(i)\n",
        "\n",
        "  #print(stop_point[0:4])\n",
        "  if not stop_point:\n",
        "    pass\n",
        "  elif stop_point[0] <= 40:\n",
        "    pass\n",
        "  else:\n",
        "    pred_binary = pred_binary[:stop_point[0],:]\n",
        "\n",
        "  s = []\n",
        "  for i in pred_binary:\n",
        "    if i[0] == 1:\n",
        "      s.append('A')\n",
        "    elif i[1] == 1:\n",
        "      s.append('C')\n",
        "    elif i[2] == 1:\n",
        "      s.append('G')\n",
        "    elif i[3] == 1:\n",
        "      s.append('T')\n",
        "\n",
        "  result = ''\n",
        "  for element in s:\n",
        "      result += str(element)\n",
        "\n",
        "  generated = [result]\n",
        "\n",
        "  seq, _ = sequence_one_hot(generated)\n",
        "  #print(seq.size(0))\n",
        "  zeros = torch.zeros((padded_sequence.size(0)-seq.size(0),1,4))\n",
        "  generated_sequence = torch.cat((seq, zeros))\n",
        "\n",
        "\n",
        "  g = generated_sequence.permute(1,0,2)\n",
        "  g = g.to(device)\n",
        "  \n",
        "  return generated, g\n"
      ],
      "execution_count": 11,
      "outputs": []
    },
    {
      "cell_type": "code",
      "metadata": {
        "id": "Rsz5pmQG4WoQ"
      },
      "source": [
        ""
      ],
      "execution_count": 11,
      "outputs": []
    },
    {
      "cell_type": "markdown",
      "metadata": {
        "id": "z6vkRNGJ4S6R"
      },
      "source": [
        "#mfe regression"
      ]
    },
    {
      "cell_type": "code",
      "metadata": {
        "id": "NUJaBbhO_63U"
      },
      "source": [
        "class NN(nn.Module):\n",
        "  def __init__(self, drop_p = .3, batch_size= 1):\n",
        "    super(NN, self).__init__()\n",
        "    self.drop_p = drop_p\n",
        "    self.batch_size = batch_size\n",
        "\n",
        "    self.dense = nn.Sequential(\n",
        "        nn.Linear(x.shape[0]*4, 528),\n",
        "        nn.LeakyReLU(),\n",
        "        nn.Dropout(p= drop_p),\n",
        "        nn.Linear(528,528),\n",
        "        nn.LeakyReLU(),\n",
        "        nn.Dropout(p= drop_p),\n",
        "        nn.Linear(528,128),\n",
        "        nn.LeakyReLU(),\n",
        "        nn.Dropout(p=drop_p),\n",
        "        nn.Linear(128, 1))\n",
        "\n",
        "  def forward(self, x):\n",
        "    x = x.flatten(1,2)\n",
        "    out = self.dense(x)\n",
        "    return out"
      ],
      "execution_count": 12,
      "outputs": []
    },
    {
      "cell_type": "code",
      "metadata": {
        "id": "gGHi1lmlAwe4"
      },
      "source": [
        "def train(device, optim, loader, model):\n",
        "  model.train()\n",
        "  losses = []\n",
        "  length_list = []\n",
        "  for i, (x,y) in enumerate(loader):\n",
        "    #set gradients to zero\n",
        "    model.zero_grad()\n",
        "    #send inputs to GPU\n",
        "    x, y = x.double().to(device), y.double().to(device)\n",
        "    #forward pass through model\n",
        "    y_pred = model(x)\n",
        "    #calculate loss, backwards step, update gradients\n",
        "    critereon = nn.MSELoss()\n",
        "    y_pred = y_pred.flatten()\n",
        "    y = y.flatten()\n",
        "    loss = critereon(y_pred, y)\n",
        "    loss.backward()\n",
        "    optim.step()\n",
        "    #cumulative loss\n",
        "    losses.append(loss.item())\n",
        "\n",
        "  return losses\n",
        "\n",
        "def test_rnn(device, loader,model):\n",
        "  #set to evaluation mode\n",
        "  model.eval()\n",
        "  #start with 0 loss and empty lists\n",
        "  test_loss = 0\n",
        "  all_y_pred = []\n",
        "  all_y = []\n",
        "  #use no gradient for evaluation\n",
        "  with torch.no_grad():\n",
        "   for i, (x,y) in enumerate(loader):\n",
        "     #cast to GPU\n",
        "    x,y = x.to(device), y.to(device)\n",
        "    #forward pass through model\n",
        "    y_pred = model(x)\n",
        "    all_y_pred.extend(y_pred)\n",
        "    all_y.extend(y)\n",
        "    #calculate loss\n",
        "    criterion = nn.MSELoss()\n",
        "    test_loss += criterion(y_pred.double().flatten(), y.double().flatten())\n",
        "    #test_loss /= len(test_loader.dataset)\n",
        "\n",
        "  all_y_pred_tensor = torch.stack(all_y_pred, dim=0)\n",
        "  all_y_tensor = torch.stack(all_y, dim=0)\n",
        "\n",
        "\n",
        "  return test_loss, all_y_pred_tensor, all_y_tensor"
      ],
      "execution_count": 13,
      "outputs": []
    },
    {
      "cell_type": "code",
      "metadata": {
        "id": "nAx0Z4VqCZpp"
      },
      "source": [
        "batch_size = 300\n",
        "epochs = 100"
      ],
      "execution_count": 14,
      "outputs": []
    },
    {
      "cell_type": "code",
      "metadata": {
        "colab": {
          "base_uri": "https://localhost:8080/"
        },
        "id": "ALn4mupnqUlW",
        "outputId": "7e79cb38-d0ee-456e-90c3-9055e28f7354"
      },
      "source": [
        "y = y.reshape(-1,1)\n",
        "print(y.shape)"
      ],
      "execution_count": 15,
      "outputs": [
        {
          "output_type": "stream",
          "text": [
            "torch.Size([10000, 1])\n"
          ],
          "name": "stdout"
        }
      ]
    },
    {
      "cell_type": "code",
      "metadata": {
        "id": "-DSTdEYFHGo2",
        "colab": {
          "base_uri": "https://localhost:8080/"
        },
        "outputId": "3c78f785-6285-41ce-bf25-8dcfac6a96a2"
      },
      "source": [
        "trainlosses = []\n",
        "testlosses = []\n",
        "skf = StratifiedKFold(n_splits=10, shuffle=True)\n",
        "skf.get_n_splits(np.ones((y.shape[0])))\n",
        "for i, (train_index,test_index) in enumerate(skf.split(np.ones(y.shape[0]), np.ones(y.shape[0]))):\n",
        "  if i == 0:\n",
        "    model = NN().to(device)\n",
        "    model = model.double()\n",
        "    optimizer = torch.optim.Adam(model.parameters(), lr=.001)\n",
        "\n",
        "    train_loader = data.DataLoader(dataset(x[:,train_index,:], y[train_index,:]), batch_size=batch_size)\n",
        "    test_loader = data.DataLoader(dataset(x[:,test_index,:], y[test_index,:]), batch_size=batch_size)\n",
        "\n",
        "    for epoch in range(epochs):\n",
        "      train_losses = train(device, optimizer, train_loader, model=model)\n",
        "      test_loss, y_pred_test1, y_test1= test_rnn(device, test_loader, model=model)\n",
        "      avg_train_loss = sum(train_losses)/len(train_losses)\n",
        "      print('epoch:', epoch, 'loss:', avg_train_loss, \"test:\", test_loss)\n",
        "      trainlosses.append(avg_train_loss)\n",
        "      testlosses.append(test_loss)\n",
        "      \n",
        "      mse = mean_squared_error(y_test1.flatten().to('cpu'), y_pred_test1.flatten().to('cpu'))\n",
        "    print(mse)\n",
        "\n",
        "  else:\n",
        "    pass\n",
        "\n"
      ],
      "execution_count": 16,
      "outputs": [
        {
          "output_type": "stream",
          "text": [
            "epoch: 0 loss: 0.5583285022593735 test: tensor(0.6533, device='cuda:0', dtype=torch.float64)\n",
            "epoch: 1 loss: 0.222104178680861 test: tensor(0.6778, device='cuda:0', dtype=torch.float64)\n",
            "epoch: 2 loss: 0.14364940830965256 test: tensor(0.3403, device='cuda:0', dtype=torch.float64)\n",
            "epoch: 3 loss: 0.1033825277658205 test: tensor(0.3183, device='cuda:0', dtype=torch.float64)\n",
            "epoch: 4 loss: 0.09026277432241446 test: tensor(0.3206, device='cuda:0', dtype=torch.float64)\n",
            "epoch: 5 loss: 0.08536993054576245 test: tensor(0.4289, device='cuda:0', dtype=torch.float64)\n",
            "epoch: 6 loss: 0.07410072586421829 test: tensor(0.3481, device='cuda:0', dtype=torch.float64)\n",
            "epoch: 7 loss: 0.0735261921146293 test: tensor(0.2271, device='cuda:0', dtype=torch.float64)\n",
            "epoch: 8 loss: 0.0700639541345445 test: tensor(0.2517, device='cuda:0', dtype=torch.float64)\n",
            "epoch: 9 loss: 0.07400991034092087 test: tensor(0.2571, device='cuda:0', dtype=torch.float64)\n",
            "epoch: 10 loss: 0.0860384348281778 test: tensor(0.3871, device='cuda:0', dtype=torch.float64)\n",
            "epoch: 11 loss: 0.0908031335520254 test: tensor(0.6546, device='cuda:0', dtype=torch.float64)\n",
            "epoch: 12 loss: 0.08940713359392498 test: tensor(0.4348, device='cuda:0', dtype=torch.float64)\n",
            "epoch: 13 loss: 0.07972589241283945 test: tensor(0.2939, device='cuda:0', dtype=torch.float64)\n",
            "epoch: 14 loss: 0.08547124722322554 test: tensor(0.2519, device='cuda:0', dtype=torch.float64)\n",
            "epoch: 15 loss: 0.07368214347150975 test: tensor(0.2180, device='cuda:0', dtype=torch.float64)\n",
            "epoch: 16 loss: 0.07410917978753133 test: tensor(0.3370, device='cuda:0', dtype=torch.float64)\n",
            "epoch: 17 loss: 0.07195006685425946 test: tensor(0.3967, device='cuda:0', dtype=torch.float64)\n",
            "epoch: 18 loss: 0.07337780109533251 test: tensor(0.4079, device='cuda:0', dtype=torch.float64)\n",
            "epoch: 19 loss: 0.07088442077615018 test: tensor(0.2763, device='cuda:0', dtype=torch.float64)\n",
            "epoch: 20 loss: 0.06973015780873874 test: tensor(0.2606, device='cuda:0', dtype=torch.float64)\n",
            "epoch: 21 loss: 0.07374309467249966 test: tensor(0.3491, device='cuda:0', dtype=torch.float64)\n",
            "epoch: 22 loss: 0.08075887954510642 test: tensor(0.4765, device='cuda:0', dtype=torch.float64)\n",
            "epoch: 23 loss: 0.09486955472593 test: tensor(0.6516, device='cuda:0', dtype=torch.float64)\n",
            "epoch: 24 loss: 0.10887097099170927 test: tensor(0.6973, device='cuda:0', dtype=torch.float64)\n",
            "epoch: 25 loss: 0.1034907402111699 test: tensor(0.3843, device='cuda:0', dtype=torch.float64)\n",
            "epoch: 26 loss: 0.08827031311765926 test: tensor(0.6126, device='cuda:0', dtype=torch.float64)\n",
            "epoch: 27 loss: 0.0964924726533583 test: tensor(0.4904, device='cuda:0', dtype=torch.float64)\n",
            "epoch: 28 loss: 0.09782742566942694 test: tensor(0.6216, device='cuda:0', dtype=torch.float64)\n",
            "epoch: 29 loss: 0.09996282489376987 test: tensor(0.4597, device='cuda:0', dtype=torch.float64)\n",
            "epoch: 30 loss: 0.09887857049167259 test: tensor(0.3691, device='cuda:0', dtype=torch.float64)\n",
            "epoch: 31 loss: 0.08500242752182116 test: tensor(0.4296, device='cuda:0', dtype=torch.float64)\n",
            "epoch: 32 loss: 0.08820620311681039 test: tensor(0.6759, device='cuda:0', dtype=torch.float64)\n",
            "epoch: 33 loss: 0.07703527896474674 test: tensor(0.3577, device='cuda:0', dtype=torch.float64)\n",
            "epoch: 34 loss: 0.062173201769972396 test: tensor(0.3047, device='cuda:0', dtype=torch.float64)\n",
            "epoch: 35 loss: 0.05937334360758638 test: tensor(0.3444, device='cuda:0', dtype=torch.float64)\n",
            "epoch: 36 loss: 0.06153056875114666 test: tensor(0.3840, device='cuda:0', dtype=torch.float64)\n",
            "epoch: 37 loss: 0.060533382538898346 test: tensor(0.3459, device='cuda:0', dtype=torch.float64)\n",
            "epoch: 38 loss: 0.056944531383129285 test: tensor(0.2219, device='cuda:0', dtype=torch.float64)\n",
            "epoch: 39 loss: 0.05316875400510598 test: tensor(0.3525, device='cuda:0', dtype=torch.float64)\n",
            "epoch: 40 loss: 0.057055201180923616 test: tensor(0.3339, device='cuda:0', dtype=torch.float64)\n",
            "epoch: 41 loss: 0.05360734156593481 test: tensor(0.2890, device='cuda:0', dtype=torch.float64)\n",
            "epoch: 42 loss: 0.05783150434787584 test: tensor(0.3424, device='cuda:0', dtype=torch.float64)\n",
            "epoch: 43 loss: 0.052933728388145945 test: tensor(0.2963, device='cuda:0', dtype=torch.float64)\n",
            "epoch: 44 loss: 0.056790614487565776 test: tensor(0.3256, device='cuda:0', dtype=torch.float64)\n",
            "epoch: 45 loss: 0.058176148542006735 test: tensor(0.3586, device='cuda:0', dtype=torch.float64)\n",
            "epoch: 46 loss: 0.05863750371144417 test: tensor(0.3132, device='cuda:0', dtype=torch.float64)\n",
            "epoch: 47 loss: 0.0551383979373675 test: tensor(0.3005, device='cuda:0', dtype=torch.float64)\n",
            "epoch: 48 loss: 0.05621567501118959 test: tensor(0.3267, device='cuda:0', dtype=torch.float64)\n",
            "epoch: 49 loss: 0.05934335566286529 test: tensor(0.3071, device='cuda:0', dtype=torch.float64)\n",
            "epoch: 50 loss: 0.055963389201856104 test: tensor(0.2434, device='cuda:0', dtype=torch.float64)\n",
            "epoch: 51 loss: 0.060258341015991514 test: tensor(0.3209, device='cuda:0', dtype=torch.float64)\n",
            "epoch: 52 loss: 0.05368572567702509 test: tensor(0.2647, device='cuda:0', dtype=torch.float64)\n",
            "epoch: 53 loss: 0.059631440122754925 test: tensor(0.2599, device='cuda:0', dtype=torch.float64)\n",
            "epoch: 54 loss: 0.05717557308199003 test: tensor(0.2444, device='cuda:0', dtype=torch.float64)\n",
            "epoch: 55 loss: 0.05550906020771403 test: tensor(0.2296, device='cuda:0', dtype=torch.float64)\n",
            "epoch: 56 loss: 0.057544747053572286 test: tensor(0.2574, device='cuda:0', dtype=torch.float64)\n",
            "epoch: 57 loss: 0.061547210305787164 test: tensor(0.2575, device='cuda:0', dtype=torch.float64)\n",
            "epoch: 58 loss: 0.06362321252549982 test: tensor(0.2546, device='cuda:0', dtype=torch.float64)\n",
            "epoch: 59 loss: 0.06901242261974803 test: tensor(0.2273, device='cuda:0', dtype=torch.float64)\n",
            "epoch: 60 loss: 0.07317942156917175 test: tensor(0.2452, device='cuda:0', dtype=torch.float64)\n",
            "epoch: 61 loss: 0.07637397639633317 test: tensor(0.2374, device='cuda:0', dtype=torch.float64)\n",
            "epoch: 62 loss: 0.0786225340059326 test: tensor(0.2488, device='cuda:0', dtype=torch.float64)\n",
            "epoch: 63 loss: 0.0847740756066582 test: tensor(0.2425, device='cuda:0', dtype=torch.float64)\n",
            "epoch: 64 loss: 0.06720978477681695 test: tensor(0.2276, device='cuda:0', dtype=torch.float64)\n",
            "epoch: 65 loss: 0.0893697290643435 test: tensor(0.2367, device='cuda:0', dtype=torch.float64)\n",
            "epoch: 66 loss: 0.07484669073650914 test: tensor(0.2247, device='cuda:0', dtype=torch.float64)\n",
            "epoch: 67 loss: 0.07641639413235003 test: tensor(0.2191, device='cuda:0', dtype=torch.float64)\n",
            "epoch: 68 loss: 0.0936752507383343 test: tensor(0.2200, device='cuda:0', dtype=torch.float64)\n",
            "epoch: 69 loss: 0.11203700286908196 test: tensor(0.2215, device='cuda:0', dtype=torch.float64)\n",
            "epoch: 70 loss: 0.09707773196844187 test: tensor(0.3001, device='cuda:0', dtype=torch.float64)\n",
            "epoch: 71 loss: 0.0640502626122444 test: tensor(0.1923, device='cuda:0', dtype=torch.float64)\n",
            "epoch: 72 loss: 0.08122927722838008 test: tensor(0.2318, device='cuda:0', dtype=torch.float64)\n",
            "epoch: 73 loss: 0.06482440649436355 test: tensor(0.2018, device='cuda:0', dtype=torch.float64)\n",
            "epoch: 74 loss: 0.06683785974837275 test: tensor(0.1986, device='cuda:0', dtype=torch.float64)\n",
            "epoch: 75 loss: 0.07442138203358589 test: tensor(0.2468, device='cuda:0', dtype=torch.float64)\n",
            "epoch: 76 loss: 0.06337010870423941 test: tensor(0.2186, device='cuda:0', dtype=torch.float64)\n",
            "epoch: 77 loss: 0.04818415955818522 test: tensor(0.2199, device='cuda:0', dtype=torch.float64)\n",
            "epoch: 78 loss: 0.04916960793963685 test: tensor(0.2094, device='cuda:0', dtype=torch.float64)\n",
            "epoch: 79 loss: 0.05008720859052147 test: tensor(0.1938, device='cuda:0', dtype=torch.float64)\n",
            "epoch: 80 loss: 0.04605084875401557 test: tensor(0.2186, device='cuda:0', dtype=torch.float64)\n",
            "epoch: 81 loss: 0.0456068065920517 test: tensor(0.2128, device='cuda:0', dtype=torch.float64)\n",
            "epoch: 82 loss: 0.04384940019647825 test: tensor(0.2186, device='cuda:0', dtype=torch.float64)\n",
            "epoch: 83 loss: 0.045769825413861584 test: tensor(0.2224, device='cuda:0', dtype=torch.float64)\n",
            "epoch: 84 loss: 0.04533294463089291 test: tensor(0.2115, device='cuda:0', dtype=torch.float64)\n",
            "epoch: 85 loss: 0.04372834620122904 test: tensor(0.2052, device='cuda:0', dtype=torch.float64)\n",
            "epoch: 86 loss: 0.04085170989184374 test: tensor(0.2089, device='cuda:0', dtype=torch.float64)\n",
            "epoch: 87 loss: 0.03885083356610638 test: tensor(0.1919, device='cuda:0', dtype=torch.float64)\n",
            "epoch: 88 loss: 0.04061767134821081 test: tensor(0.2016, device='cuda:0', dtype=torch.float64)\n",
            "epoch: 89 loss: 0.03952881669903192 test: tensor(0.2170, device='cuda:0', dtype=torch.float64)\n",
            "epoch: 90 loss: 0.03981876787861904 test: tensor(0.2111, device='cuda:0', dtype=torch.float64)\n",
            "epoch: 91 loss: 0.039967955810407976 test: tensor(0.2007, device='cuda:0', dtype=torch.float64)\n",
            "epoch: 92 loss: 0.04071922995378401 test: tensor(0.2032, device='cuda:0', dtype=torch.float64)\n",
            "epoch: 93 loss: 0.0399516510420288 test: tensor(0.2029, device='cuda:0', dtype=torch.float64)\n",
            "epoch: 94 loss: 0.039378376808729125 test: tensor(0.1989, device='cuda:0', dtype=torch.float64)\n",
            "epoch: 95 loss: 0.03876776527666863 test: tensor(0.1864, device='cuda:0', dtype=torch.float64)\n",
            "epoch: 96 loss: 0.04071960458078782 test: tensor(0.2097, device='cuda:0', dtype=torch.float64)\n",
            "epoch: 97 loss: 0.03734625423262589 test: tensor(0.1860, device='cuda:0', dtype=torch.float64)\n",
            "epoch: 98 loss: 0.037666818235205894 test: tensor(0.1825, device='cuda:0', dtype=torch.float64)\n",
            "epoch: 99 loss: 0.0380319848811643 test: tensor(0.1877, device='cuda:0', dtype=torch.float64)\n",
            "0.04580920442022112\n"
          ],
          "name": "stdout"
        }
      ]
    },
    {
      "cell_type": "code",
      "metadata": {
        "colab": {
          "base_uri": "https://localhost:8080/",
          "height": 264
        },
        "id": "vTi8X-sQtde6",
        "outputId": "e4993cb8-aeae-447b-9551-647a5eeeb52e"
      },
      "source": [
        "l = [trainlosses, testlosses]\n",
        "for i in l:\n",
        "  plt.plot(i)"
      ],
      "execution_count": 17,
      "outputs": [
        {
          "output_type": "display_data",
          "data": {
            "image/png": "[encoded data removed]",
            "text/plain": [
              "<Figure size 432x288 with 1 Axes>"
            ]
          },
          "metadata": {
            "tags": [],
            "needs_background": "light"
          }
        }
      ]
    },
    {
      "cell_type": "code",
      "metadata": {
        "id": "zhyDuckTEinS"
      },
      "source": [
        "yy = scaler.inverse_transform(y_pred_test1.to('cpu'))\n",
        "yyy = scaler.inverse_transform(y_test1.to('cpu'))\n",
        "\n",
        "dif = abs(yy-yyy)"
      ],
      "execution_count": 18,
      "outputs": []
    },
    {
      "cell_type": "code",
      "metadata": {
        "id": "hrhZvktyKz1B",
        "colab": {
          "base_uri": "https://localhost:8080/"
        },
        "outputId": "90601965-2b56-4f03-8b8c-d39a55a51a7d"
      },
      "source": [
        "d = []\n",
        "e = []\n",
        "for i in range(14):\n",
        "  a = dif[i]\n",
        "  b = yyy[i]\n",
        "  c = np.sqrt(sum(a**2)/len(a))\n",
        "  d.append(b.std()/c)\n",
        "  e.append(a.mean())\n",
        "print('raise', mean(d), '\\nlower', mean(e))"
      ],
      "execution_count": 19,
      "outputs": [
        {
          "output_type": "stream",
          "text": [
            "raise 0.0 \n",
            "lower 8.832243226573764\n"
          ],
          "name": "stdout"
        }
      ]
    },
    {
      "cell_type": "markdown",
      "metadata": {
        "id": "Y-CknRaCs0a1"
      },
      "source": [
        ""
      ]
    },
    {
      "cell_type": "markdown",
      "metadata": {
        "id": "OvvHtyp1s3ZS"
      },
      "source": [
        "#mfe RNN"
      ]
    },
    {
      "cell_type": "code",
      "metadata": {
        "id": "ybGH46Ujs3ZS"
      },
      "source": [
        "class RNN(nn.Module):\n",
        "  def __init__(self, drop_p = .3, batch_size= 1):\n",
        "    super(RNN, self).__init__()\n",
        "    self.drop_p = drop_p\n",
        "    self.batch_size = batch_size\n",
        "    self.gru = nn.GRU(input_size=4, hidden_size=100, num_layers = 2, bidirectional = True, batch_first = True, dropout = .3)\n",
        "    self.dense = nn.Sequential(\n",
        "        nn.Linear(400, 1))\n",
        "\n",
        "  def forward(self, x):\n",
        "    _, h = self.gru(x)\n",
        "    h = h.permute(1,0,2)\n",
        "    h = torch.flatten(h, 1,2)\n",
        "    out = self.dense(h)\n",
        "    return out"
      ],
      "execution_count": 20,
      "outputs": []
    },
    {
      "cell_type": "code",
      "metadata": {
        "id": "5H41bpTGs3ZT"
      },
      "source": [
        "def train(device, optim, loader, model):\n",
        "  model.train()\n",
        "  losses = []\n",
        "  length_list = []\n",
        "  for i, (x,y) in enumerate(loader):\n",
        "    #set gradients to zero\n",
        "    model.zero_grad()\n",
        "    #send inputs to GPU\n",
        "    x, y = x.double().to(device), y.double().to(device)\n",
        "    #forward pass through model\n",
        "    y_pred = model(x)\n",
        "    #calculate loss, backwards step, update gradients\n",
        "    critereon = nn.MSELoss()\n",
        "    y_pred = y_pred.flatten()\n",
        "    y = y.flatten()\n",
        "    loss = critereon(y_pred, y)\n",
        "    loss.backward()\n",
        "    optim.step()\n",
        "    #cumulative loss\n",
        "    losses.append(loss.item())\n",
        "\n",
        "  return losses\n",
        "\n",
        "def test_rnn(device, loader,model):\n",
        "  #set to evaluation mode\n",
        "  model.eval()\n",
        "  #start with 0 loss and empty lists\n",
        "  test_loss = 0\n",
        "  all_y_pred = []\n",
        "  all_y = []\n",
        "  #use no gradient for evaluation\n",
        "  with torch.no_grad():\n",
        "   for i, (x,y) in enumerate(loader):\n",
        "     #cast to GPU\n",
        "    x,y = x.to(device), y.to(device)\n",
        "    #forward pass through model\n",
        "    y_pred = model(x)\n",
        "    all_y_pred.extend(y_pred)\n",
        "    all_y.extend(y)\n",
        "    #calculate loss\n",
        "    criterion = nn.MSELoss()\n",
        "    test_loss += criterion(y_pred.double().flatten(), y.double().flatten())\n",
        "    #test_loss /= len(test_loader.dataset)\n",
        "\n",
        "  all_y_pred_tensor = torch.stack(all_y_pred, dim=0)\n",
        "  all_y_tensor = torch.stack(all_y, dim=0)\n",
        "\n",
        "\n",
        "  return test_loss, all_y_pred_tensor, all_y_tensor"
      ],
      "execution_count": 21,
      "outputs": []
    },
    {
      "cell_type": "code",
      "metadata": {
        "id": "1qbqB20Ss3ZT"
      },
      "source": [
        "batch_size = 300\n",
        "epochs = 100"
      ],
      "execution_count": 22,
      "outputs": []
    },
    {
      "cell_type": "code",
      "metadata": {
        "colab": {
          "base_uri": "https://localhost:8080/"
        },
        "id": "1xc1EhMOs3ZT",
        "outputId": "11fb2802-399d-4c1f-b1fc-538e71baa1fe"
      },
      "source": [
        "y = y.reshape(-1,1)\n",
        "print(y.shape)"
      ],
      "execution_count": 23,
      "outputs": [
        {
          "output_type": "stream",
          "text": [
            "torch.Size([10000, 1])\n"
          ],
          "name": "stdout"
        }
      ]
    },
    {
      "cell_type": "code",
      "metadata": {
        "colab": {
          "base_uri": "https://localhost:8080/"
        },
        "id": "eoRj9Th1s3ZW",
        "outputId": "ca37367a-43a9-484e-bd38-d386cd670169"
      },
      "source": [
        "trainlosses = []\n",
        "testlosses = []\n",
        "skf = StratifiedKFold(n_splits=10, shuffle=True)\n",
        "skf.get_n_splits(np.ones((y.shape[0])))\n",
        "for i, (train_index,test_index) in enumerate(skf.split(np.ones(y.shape[0]), np.ones(y.shape[0]))):\n",
        "  if i == 0:\n",
        "    model = RNN().to(device)\n",
        "    model = model.double()\n",
        "    optimizer = torch.optim.Adam(model.parameters(), lr=.001)\n",
        "\n",
        "    train_loader = data.DataLoader(dataset(x[:,train_index,:], y[train_index,:]), batch_size=batch_size)\n",
        "    test_loader = data.DataLoader(dataset(x[:,test_index,:], y[test_index,:]), batch_size=batch_size)\n",
        "\n",
        "    for epoch in range(epochs):\n",
        "      train_losses = train(device, optimizer, train_loader, model=model)\n",
        "      test_loss, y_pred_test1, y_test1= test_rnn(device, test_loader, model=model)\n",
        "      avg_train_loss = sum(train_losses)/len(train_losses)\n",
        "      print('epoch:', epoch, 'loss:', avg_train_loss, \"test:\", test_loss)\n",
        "      trainlosses.append(avg_train_loss)\n",
        "      testlosses.append(test_loss)\n",
        "      \n",
        "      mse = mean_squared_error(y_test1.flatten().to('cpu'), y_pred_test1.flatten().to('cpu'))\n",
        "    print('\\n final MSE:', mse)\n",
        "\n",
        "  else:\n",
        "    pass\n",
        "\n"
      ],
      "execution_count": 24,
      "outputs": [
        {
          "output_type": "stream",
          "text": [
            "epoch: 0 loss: 0.8738323574844306 test: tensor(3.8758, device='cuda:0', dtype=torch.float64)\n",
            "epoch: 1 loss: 0.49187180934593044 test: tensor(0.5978, device='cuda:0', dtype=torch.float64)\n",
            "epoch: 2 loss: 0.1295525827409166 test: tensor(0.4027, device='cuda:0', dtype=torch.float64)\n",
            "epoch: 3 loss: 0.09503944370743414 test: tensor(0.3634, device='cuda:0', dtype=torch.float64)\n",
            "epoch: 4 loss: 0.09369979052657565 test: tensor(0.3479, device='cuda:0', dtype=torch.float64)\n",
            "epoch: 5 loss: 0.08652018329236696 test: tensor(0.3200, device='cuda:0', dtype=torch.float64)\n",
            "epoch: 6 loss: 0.08287589883834415 test: tensor(0.3253, device='cuda:0', dtype=torch.float64)\n",
            "epoch: 7 loss: 0.08078051010664625 test: tensor(0.3078, device='cuda:0', dtype=torch.float64)\n",
            "epoch: 8 loss: 0.07955956846289772 test: tensor(0.3063, device='cuda:0', dtype=torch.float64)\n",
            "epoch: 9 loss: 0.07821829236640035 test: tensor(0.3269, device='cuda:0', dtype=torch.float64)\n",
            "epoch: 10 loss: 0.08403530260057365 test: tensor(0.2757, device='cuda:0', dtype=torch.float64)\n",
            "epoch: 11 loss: 0.07430507194010776 test: tensor(0.2680, device='cuda:0', dtype=torch.float64)\n",
            "epoch: 12 loss: 0.07285103050377274 test: tensor(0.3211, device='cuda:0', dtype=torch.float64)\n",
            "epoch: 13 loss: 0.07889519845631815 test: tensor(0.2538, device='cuda:0', dtype=torch.float64)\n",
            "epoch: 14 loss: 0.06860468945951492 test: tensor(0.2661, device='cuda:0', dtype=torch.float64)\n",
            "epoch: 15 loss: 0.07243417903333274 test: tensor(0.2479, device='cuda:0', dtype=torch.float64)\n",
            "epoch: 16 loss: 0.06501370233981092 test: tensor(0.2712, device='cuda:0', dtype=torch.float64)\n",
            "epoch: 17 loss: 0.06922052841835541 test: tensor(0.2537, device='cuda:0', dtype=torch.float64)\n",
            "epoch: 18 loss: 0.0653584885724098 test: tensor(0.2224, device='cuda:0', dtype=torch.float64)\n",
            "epoch: 19 loss: 0.06466573092665422 test: tensor(0.2511, device='cuda:0', dtype=torch.float64)\n",
            "epoch: 20 loss: 0.06332050430947599 test: tensor(0.2231, device='cuda:0', dtype=torch.float64)\n",
            "epoch: 21 loss: 0.06017284673836253 test: tensor(0.2587, device='cuda:0', dtype=torch.float64)\n",
            "epoch: 22 loss: 0.06274511424481972 test: tensor(0.2081, device='cuda:0', dtype=torch.float64)\n",
            "epoch: 23 loss: 0.05698188412839638 test: tensor(0.2225, device='cuda:0', dtype=torch.float64)\n",
            "epoch: 24 loss: 0.059150386094993526 test: tensor(0.2290, device='cuda:0', dtype=torch.float64)\n",
            "epoch: 25 loss: 0.058919120871667244 test: tensor(0.1994, device='cuda:0', dtype=torch.float64)\n",
            "epoch: 26 loss: 0.055743794767046294 test: tensor(0.2045, device='cuda:0', dtype=torch.float64)\n",
            "epoch: 27 loss: 0.05626576600538285 test: tensor(0.2114, device='cuda:0', dtype=torch.float64)\n",
            "epoch: 28 loss: 0.05391735919153003 test: tensor(0.1922, device='cuda:0', dtype=torch.float64)\n",
            "epoch: 29 loss: 0.05285422515314778 test: tensor(0.1980, device='cuda:0', dtype=torch.float64)\n",
            "epoch: 30 loss: 0.05375050853978747 test: tensor(0.1881, device='cuda:0', dtype=torch.float64)\n",
            "epoch: 31 loss: 0.0512917625512079 test: tensor(0.1814, device='cuda:0', dtype=torch.float64)\n",
            "epoch: 32 loss: 0.05085791574274344 test: tensor(0.1853, device='cuda:0', dtype=torch.float64)\n",
            "epoch: 33 loss: 0.05098259183100096 test: tensor(0.1900, device='cuda:0', dtype=torch.float64)\n",
            "epoch: 34 loss: 0.05082300487213825 test: tensor(0.1777, device='cuda:0', dtype=torch.float64)\n",
            "epoch: 35 loss: 0.04941401250551113 test: tensor(0.1739, device='cuda:0', dtype=torch.float64)\n",
            "epoch: 36 loss: 0.04926465365327673 test: tensor(0.1728, device='cuda:0', dtype=torch.float64)\n",
            "epoch: 37 loss: 0.048409431607436756 test: tensor(0.1728, device='cuda:0', dtype=torch.float64)\n",
            "epoch: 38 loss: 0.048247405940910475 test: tensor(0.1749, device='cuda:0', dtype=torch.float64)\n",
            "epoch: 39 loss: 0.048008993639363985 test: tensor(0.1719, device='cuda:0', dtype=torch.float64)\n",
            "epoch: 40 loss: 0.04749475816901716 test: tensor(0.1708, device='cuda:0', dtype=torch.float64)\n",
            "epoch: 41 loss: 0.04710853134546693 test: tensor(0.1687, device='cuda:0', dtype=torch.float64)\n",
            "epoch: 42 loss: 0.04705546996308791 test: tensor(0.1684, device='cuda:0', dtype=torch.float64)\n",
            "epoch: 43 loss: 0.04696399125636514 test: tensor(0.1689, device='cuda:0', dtype=torch.float64)\n",
            "epoch: 44 loss: 0.04694938446918549 test: tensor(0.1673, device='cuda:0', dtype=torch.float64)\n",
            "epoch: 45 loss: 0.04699947497274017 test: tensor(0.1673, device='cuda:0', dtype=torch.float64)\n",
            "epoch: 46 loss: 0.04902210059386842 test: tensor(0.1945, device='cuda:0', dtype=torch.float64)\n",
            "epoch: 47 loss: 0.051328771099850574 test: tensor(0.1894, device='cuda:0', dtype=torch.float64)\n",
            "epoch: 48 loss: 0.04745473066895214 test: tensor(0.1704, device='cuda:0', dtype=torch.float64)\n",
            "epoch: 49 loss: 0.04579097457062362 test: tensor(0.1650, device='cuda:0', dtype=torch.float64)\n",
            "epoch: 50 loss: 0.04513814423429342 test: tensor(0.1633, device='cuda:0', dtype=torch.float64)\n",
            "epoch: 51 loss: 0.044593933159106855 test: tensor(0.1623, device='cuda:0', dtype=torch.float64)\n",
            "epoch: 52 loss: 0.04396166513432422 test: tensor(0.1619, device='cuda:0', dtype=torch.float64)\n",
            "epoch: 53 loss: 0.043427360030531846 test: tensor(0.1614, device='cuda:0', dtype=torch.float64)\n",
            "epoch: 54 loss: 0.04373072919306917 test: tensor(0.1594, device='cuda:0', dtype=torch.float64)\n",
            "epoch: 55 loss: 0.04400030386054245 test: tensor(0.1609, device='cuda:0', dtype=torch.float64)\n",
            "epoch: 56 loss: 0.045023961471124335 test: tensor(0.1685, device='cuda:0', dtype=torch.float64)\n",
            "epoch: 57 loss: 0.0445067025394477 test: tensor(0.1662, device='cuda:0', dtype=torch.float64)\n",
            "epoch: 58 loss: 0.04268595007332631 test: tensor(0.1589, device='cuda:0', dtype=torch.float64)\n",
            "epoch: 59 loss: 0.041765865641126075 test: tensor(0.1572, device='cuda:0', dtype=torch.float64)\n",
            "epoch: 60 loss: 0.04130061188412458 test: tensor(0.1540, device='cuda:0', dtype=torch.float64)\n",
            "epoch: 61 loss: 0.04120742608711415 test: tensor(0.1527, device='cuda:0', dtype=torch.float64)\n",
            "epoch: 62 loss: 0.04143218637264936 test: tensor(0.1539, device='cuda:0', dtype=torch.float64)\n",
            "epoch: 63 loss: 0.04239335613428794 test: tensor(0.1646, device='cuda:0', dtype=torch.float64)\n",
            "epoch: 64 loss: 0.04248571548752897 test: tensor(0.1758, device='cuda:0', dtype=torch.float64)\n",
            "epoch: 65 loss: 0.041695060591299654 test: tensor(0.1663, device='cuda:0', dtype=torch.float64)\n",
            "epoch: 66 loss: 0.04049144232420043 test: tensor(0.1557, device='cuda:0', dtype=torch.float64)\n",
            "epoch: 67 loss: 0.03895735739361688 test: tensor(0.1531, device='cuda:0', dtype=torch.float64)\n",
            "epoch: 68 loss: 0.0379763470369248 test: tensor(0.1487, device='cuda:0', dtype=torch.float64)\n",
            "epoch: 69 loss: 0.0368113299113231 test: tensor(0.1433, device='cuda:0', dtype=torch.float64)\n",
            "epoch: 70 loss: 0.036266202560419535 test: tensor(0.1373, device='cuda:0', dtype=torch.float64)\n",
            "epoch: 71 loss: 0.03576459505581333 test: tensor(0.1374, device='cuda:0', dtype=torch.float64)\n",
            "epoch: 72 loss: 0.03479434687888673 test: tensor(0.1353, device='cuda:0', dtype=torch.float64)\n",
            "epoch: 73 loss: 0.0341251235687027 test: tensor(0.1389, device='cuda:0', dtype=torch.float64)\n",
            "epoch: 74 loss: 0.033279240320881885 test: tensor(0.1412, device='cuda:0', dtype=torch.float64)\n",
            "epoch: 75 loss: 0.03162539121325346 test: tensor(0.1451, device='cuda:0', dtype=torch.float64)\n",
            "epoch: 76 loss: 0.032499198613209566 test: tensor(0.1742, device='cuda:0', dtype=torch.float64)\n",
            "epoch: 77 loss: 0.038411069104061744 test: tensor(0.1855, device='cuda:0', dtype=torch.float64)\n",
            "epoch: 78 loss: 0.03511946596748185 test: tensor(0.1121, device='cuda:0', dtype=torch.float64)\n",
            "epoch: 79 loss: 0.028467641331745563 test: tensor(0.1309, device='cuda:0', dtype=torch.float64)\n",
            "epoch: 80 loss: 0.031409222812010626 test: tensor(0.1302, device='cuda:0', dtype=torch.float64)\n",
            "epoch: 81 loss: 0.036263551399713476 test: tensor(0.2281, device='cuda:0', dtype=torch.float64)\n",
            "epoch: 82 loss: 0.046623795768887984 test: tensor(0.2533, device='cuda:0', dtype=torch.float64)\n",
            "epoch: 83 loss: 0.03260399698512722 test: tensor(0.1379, device='cuda:0', dtype=torch.float64)\n",
            "epoch: 84 loss: 0.025787968114912293 test: tensor(0.1264, device='cuda:0', dtype=torch.float64)\n",
            "epoch: 85 loss: 0.025166372726136158 test: tensor(0.1427, device='cuda:0', dtype=torch.float64)\n",
            "epoch: 86 loss: 0.024948748644428843 test: tensor(0.1406, device='cuda:0', dtype=torch.float64)\n",
            "epoch: 87 loss: 0.024730082708662553 test: tensor(0.1280, device='cuda:0', dtype=torch.float64)\n",
            "epoch: 88 loss: 0.02479796750407749 test: tensor(0.1420, device='cuda:0', dtype=torch.float64)\n",
            "epoch: 89 loss: 0.0252938060821415 test: tensor(0.1462, device='cuda:0', dtype=torch.float64)\n",
            "epoch: 90 loss: 0.02705621148628142 test: tensor(0.1477, device='cuda:0', dtype=torch.float64)\n",
            "epoch: 91 loss: 0.03190433822800034 test: tensor(0.1624, device='cuda:0', dtype=torch.float64)\n",
            "epoch: 92 loss: 0.04944054119715899 test: tensor(0.3256, device='cuda:0', dtype=torch.float64)\n",
            "epoch: 93 loss: 0.07072095866277216 test: tensor(0.3100, device='cuda:0', dtype=torch.float64)\n",
            "epoch: 94 loss: 0.082257687802553 test: tensor(0.6573, device='cuda:0', dtype=torch.float64)\n",
            "epoch: 95 loss: 0.12176334965444466 test: tensor(0.3075, device='cuda:0', dtype=torch.float64)\n",
            "epoch: 96 loss: 0.05058870579161397 test: tensor(0.3677, device='cuda:0', dtype=torch.float64)\n",
            "epoch: 97 loss: 0.051858759459036105 test: tensor(0.1969, device='cuda:0', dtype=torch.float64)\n",
            "epoch: 98 loss: 0.04816699173555588 test: tensor(0.1237, device='cuda:0', dtype=torch.float64)\n",
            "epoch: 99 loss: 0.027180861568745204 test: tensor(0.1181, device='cuda:0', dtype=torch.float64)\n",
            "\n",
            " final MSE: 0.028242786619833777\n"
          ],
          "name": "stdout"
        }
      ]
    },
    {
      "cell_type": "code",
      "metadata": {
        "id": "PZ6esaGVs3ZX",
        "colab": {
          "base_uri": "https://localhost:8080/",
          "height": 265
        },
        "outputId": "3c4637e9-5d0d-4f9e-b4cd-00657087503b"
      },
      "source": [
        "l = [trainlosses, testlosses]\n",
        "for i in l:\n",
        "  plt.plot(i)"
      ],
      "execution_count": 25,
      "outputs": [
        {
          "output_type": "display_data",
          "data": {
            "image/png": "[encoded data removed]",
            "text/plain": [
              "<Figure size 432x288 with 1 Axes>"
            ]
          },
          "metadata": {
            "tags": [],
            "needs_background": "light"
          }
        }
      ]
    },
    {
      "cell_type": "code",
      "metadata": {
        "id": "nX2372Dvs3ZX"
      },
      "source": [
        "yy = scaler.inverse_transform(y_pred_test1.to('cpu'))\n",
        "yyy = scaler.inverse_transform(y_test1.to('cpu'))\n",
        "\n",
        "dif = abs(yy-yyy)"
      ],
      "execution_count": 26,
      "outputs": []
    },
    {
      "cell_type": "code",
      "metadata": {
        "colab": {
          "base_uri": "https://localhost:8080/"
        },
        "id": "m_p1cq7Bs3ZX",
        "outputId": "2cb0614c-19ed-4f5f-f81d-6852c821a80a"
      },
      "source": [
        "d = []\n",
        "e = []\n",
        "for i in range(14):\n",
        "  a = dif[i]\n",
        "  b = yyy[i]\n",
        "  c = np.sqrt(sum(a**2)/len(a))\n",
        "  d.append(b.std()/c)\n",
        "  e.append(a.mean())\n",
        "print('raise', mean(d), '\\nlower', mean(e))"
      ],
      "execution_count": 27,
      "outputs": [
        {
          "output_type": "stream",
          "text": [
            "raise 0.0 \n",
            "lower 8.124096977336933\n"
          ],
          "name": "stdout"
        }
      ]
    },
    {
      "cell_type": "code",
      "metadata": {
        "id": "MZmnC0uocn_N"
      },
      "source": [
        "from sklearn.metrics import r2_score"
      ],
      "execution_count": 28,
      "outputs": []
    },
    {
      "cell_type": "code",
      "metadata": {
        "colab": {
          "base_uri": "https://localhost:8080/"
        },
        "id": "vwROEwunxipM",
        "outputId": "090bd003-ab6e-480e-8732-5467a6a86264"
      },
      "source": [
        "r2 = r2_score(y_test1.flatten().to('cpu'), y_pred_test1.flatten().to('cpu'))\n",
        "print(r2)"
      ],
      "execution_count": 29,
      "outputs": [
        {
          "output_type": "stream",
          "text": [
            "0.9712641289015506\n"
          ],
          "name": "stdout"
        }
      ]
    }
  ]
}
